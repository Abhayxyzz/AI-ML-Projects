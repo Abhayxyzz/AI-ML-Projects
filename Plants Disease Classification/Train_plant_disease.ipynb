{
 "cells": [
  {
   "cell_type": "markdown",
   "id": "49d193b0-b6bb-4d4a-94d0-c8f73ef7ba92",
   "metadata": {},
   "source": [
    "## Importing Libraries"
   ]
  },
  {
   "cell_type": "code",
   "execution_count": 3,
   "id": "9c847134-71e1-4e17-ae80-60eebd44cb4d",
   "metadata": {},
   "outputs": [],
   "source": [
    "import tensorflow as tf\n",
    "import matplotlib.pyplot as plt\n",
    "import pandas as pd\n",
    "import seaborn as sns"
   ]
  },
  {
   "cell_type": "markdown",
   "id": "33be4262-072b-4c0a-bc00-84ad3ea35e11",
   "metadata": {},
   "source": [
    "## Data Preprocessing"
   ]
  },
  {
   "cell_type": "markdown",
   "id": "583141c1-ff9b-4278-877d-a04b24dfaf06",
   "metadata": {},
   "source": [
    "### Training Image Preprocessing"
   ]
  },
  {
   "cell_type": "code",
   "execution_count": 4,
   "id": "dc9f8ab0-9372-438c-899b-4833252c7245",
   "metadata": {},
   "outputs": [
    {
     "name": "stdout",
     "output_type": "stream",
     "text": [
      "Found 70295 files belonging to 38 classes.\n"
     ]
    }
   ],
   "source": [
    "training_set = tf.keras.utils.image_dataset_from_directory(\n",
    "    'train',\n",
    "    labels=\"inferred\",\n",
    "    label_mode=\"categorical\",\n",
    "    class_names=None,\n",
    "    color_mode=\"rgb\",\n",
    "    batch_size=32,\n",
    "    image_size=(128, 128),\n",
    "    shuffle=True,\n",
    "    seed=None,\n",
    "    validation_split=None,\n",
    "    subset=None,\n",
    "    interpolation=\"bilinear\",\n",
    "    follow_links=False,\n",
    "    crop_to_aspect_ratio=False,\n",
    "    pad_to_aspect_ratio=False,\n",
    "    data_format=None,\n",
    "    verbose=True,\n",
    ")"
   ]
  },
  {
   "cell_type": "markdown",
   "id": "792706c1-d9a7-4645-995d-f5d28df0b32e",
   "metadata": {},
   "source": [
    "### Validation Image Preprocessing"
   ]
  },
  {
   "cell_type": "code",
   "execution_count": 5,
   "id": "1551fd06-7071-401d-9096-c87f0d24ecd2",
   "metadata": {},
   "outputs": [
    {
     "name": "stdout",
     "output_type": "stream",
     "text": [
      "Found 17572 files belonging to 38 classes.\n"
     ]
    }
   ],
   "source": [
    "validation_set = tf.keras.utils.image_dataset_from_directory(\n",
    "    'valid',\n",
    "    labels=\"inferred\",\n",
    "    label_mode=\"categorical\",\n",
    "    class_names=None,\n",
    "    color_mode=\"rgb\",\n",
    "    batch_size=32,\n",
    "    image_size=(128, 128),\n",
    "    shuffle=True,\n",
    "    seed=None,\n",
    "    validation_split=None,\n",
    "    subset=None,\n",
    "    interpolation=\"bilinear\",\n",
    "    follow_links=False,\n",
    "    crop_to_aspect_ratio=False,\n",
    "    pad_to_aspect_ratio=False,\n",
    "    data_format=None,\n",
    "    verbose=True,\n",
    ")"
   ]
  },
  {
   "cell_type": "code",
   "execution_count": 6,
   "id": "ac854948-269b-41fc-bb13-36718c2ea379",
   "metadata": {},
   "outputs": [
    {
     "name": "stdout",
     "output_type": "stream",
     "text": [
      "tf.Tensor(\n",
      "[[[[146.   144.   149.  ]\n",
      "   [148.5  146.5  151.5 ]\n",
      "   [147.5  145.5  150.5 ]\n",
      "   ...\n",
      "   [139.5  142.5  151.5 ]\n",
      "   [129.75 132.75 141.75]\n",
      "   [136.75 139.75 148.75]]\n",
      "\n",
      "  [[147.   145.   150.  ]\n",
      "   [148.25 146.25 151.25]\n",
      "   [147.5  145.5  150.5 ]\n",
      "   ...\n",
      "   [133.5  136.5  145.5 ]\n",
      "   [136.75 139.75 148.75]\n",
      "   [127.25 130.25 139.25]]\n",
      "\n",
      "  [[152.25 150.25 155.25]\n",
      "   [152.   150.   155.  ]\n",
      "   [146.75 144.75 149.75]\n",
      "   ...\n",
      "   [136.   139.   148.  ]\n",
      "   [137.75 140.75 149.75]\n",
      "   [126.75 129.75 138.75]]\n",
      "\n",
      "  ...\n",
      "\n",
      "  [[ 22.5   23.75  25.  ]\n",
      "   [ 32.    34.    31.  ]\n",
      "   [ 62.    67.25  59.75]\n",
      "   ...\n",
      "   [ 38.5   54.75  27.5 ]\n",
      "   [ 82.25 100.25  60.  ]\n",
      "   [116.   135.75  86.5 ]]\n",
      "\n",
      "  [[ 27.5   28.5   32.  ]\n",
      "   [ 27.75  29.5   28.75]\n",
      "   [ 40.5   45.5   39.5 ]\n",
      "   ...\n",
      "   [ 55.    71.    43.5 ]\n",
      "   [ 74.5   93.    51.5 ]\n",
      "   [119.5  139.5   88.  ]]\n",
      "\n",
      "  [[ 30.75  31.75  36.25]\n",
      "   [ 34.    35.5   36.5 ]\n",
      "   [ 62.    67.    61.5 ]\n",
      "   ...\n",
      "   [ 48.5   64.    38.5 ]\n",
      "   [ 79.75  98.25  56.75]\n",
      "   [106.5  126.5   74.5 ]]]\n",
      "\n",
      "\n",
      " [[[157.5  155.5  160.5 ]\n",
      "   [157.25 155.25 160.25]\n",
      "   [157.75 155.75 160.75]\n",
      "   ...\n",
      "   [157.75 153.75 154.75]\n",
      "   [157.25 153.25 154.25]\n",
      "   [158.   154.   155.  ]]\n",
      "\n",
      "  [[156.75 154.75 159.75]\n",
      "   [161.   159.   164.  ]\n",
      "   [167.75 165.75 170.75]\n",
      "   ...\n",
      "   [156.25 152.25 153.25]\n",
      "   [167.   163.   164.  ]\n",
      "   [160.5  156.5  157.5 ]]\n",
      "\n",
      "  [[162.25 160.25 165.25]\n",
      "   [159.75 157.75 162.75]\n",
      "   [162.25 160.25 165.25]\n",
      "   ...\n",
      "   [169.5  165.5  166.5 ]\n",
      "   [165.25 161.25 162.25]\n",
      "   [166.5  162.5  163.5 ]]\n",
      "\n",
      "  ...\n",
      "\n",
      "  [[145.25 137.25 134.25]\n",
      "   [143.25 135.25 132.25]\n",
      "   [145.75 137.75 134.75]\n",
      "   ...\n",
      "   [151.25 143.25 140.25]\n",
      "   [151.5  143.5  140.5 ]\n",
      "   [145.   137.   134.  ]]\n",
      "\n",
      "  [[146.75 138.75 135.75]\n",
      "   [140.   132.   129.  ]\n",
      "   [142.   134.   131.  ]\n",
      "   ...\n",
      "   [149.   141.   138.  ]\n",
      "   [148.5  140.5  137.5 ]\n",
      "   [155.75 147.75 144.75]]\n",
      "\n",
      "  [[138.5  130.5  127.5 ]\n",
      "   [140.25 132.25 129.25]\n",
      "   [141.5  133.5  130.5 ]\n",
      "   ...\n",
      "   [150.   142.   139.  ]\n",
      "   [152.5  144.5  141.5 ]\n",
      "   [150.75 142.75 139.75]]]\n",
      "\n",
      "\n",
      " [[[ 50.5   87.5   54.5 ]\n",
      "   [ 34.    68.5   36.75]\n",
      "   [ 46.25  77.25  45.25]\n",
      "   ...\n",
      "   [142.5  180.5  119.5 ]\n",
      "   [144.   182.   121.  ]\n",
      "   [143.25 182.25 119.25]]\n",
      "\n",
      "  [[ 41.25  75.5   43.5 ]\n",
      "   [ 40.75  74.75  41.75]\n",
      "   [ 48.25  79.25  46.75]\n",
      "   ...\n",
      "   [144.25 182.25 121.25]\n",
      "   [152.25 190.25 129.25]\n",
      "   [146.5  185.5  122.5 ]]\n",
      "\n",
      "  [[ 79.5  110.    76.5 ]\n",
      "   [ 55.75  86.25  52.25]\n",
      "   [ 49.    79.    44.5 ]\n",
      "   ...\n",
      "   [145.   183.   122.  ]\n",
      "   [156.5  194.5  133.5 ]\n",
      "   [151.25 190.25 127.25]]\n",
      "\n",
      "  ...\n",
      "\n",
      "  [[164.75 200.75 139.75]\n",
      "   [163.25 199.25 138.25]\n",
      "   [165.75 201.75 140.75]\n",
      "   ...\n",
      "   [210.75 228.   191.5 ]\n",
      "   [213.75 231.75 192.25]\n",
      "   [200.   218.   176.5 ]]\n",
      "\n",
      "  [[159.5  195.5  134.5 ]\n",
      "   [157.75 193.75 132.75]\n",
      "   [163.25 199.25 138.25]\n",
      "   ...\n",
      "   [215.   232.75 195.25]\n",
      "   [203.25 221.25 180.75]\n",
      "   [217.5  235.5  193.5 ]]\n",
      "\n",
      "  [[160.75 196.75 134.75]\n",
      "   [159.75 195.75 133.75]\n",
      "   [155.5  191.5  129.5 ]\n",
      "   ...\n",
      "   [211.   229.   190.5 ]\n",
      "   [209.   227.   186.  ]\n",
      "   [177.   195.75 151.5 ]]]\n",
      "\n",
      "\n",
      " ...\n",
      "\n",
      "\n",
      " [[[ 98.   111.   146.  ]\n",
      "   [101.5  114.5  149.5 ]\n",
      "   [101.75 114.75 149.75]\n",
      "   ...\n",
      "   [ 28.    35.    54.  ]\n",
      "   [ 31.25  38.25  57.25]\n",
      "   [ 25.5   32.5   51.5 ]]\n",
      "\n",
      "  [[ 97.   110.   145.  ]\n",
      "   [ 98.75 111.75 146.75]\n",
      "   [100.   113.   148.  ]\n",
      "   ...\n",
      "   [ 26.5   33.5   51.75]\n",
      "   [ 23.75  30.75  48.75]\n",
      "   [ 23.75  30.75  48.25]]\n",
      "\n",
      "  [[ 94.5  107.5  142.5 ]\n",
      "   [ 97.75 110.75 145.75]\n",
      "   [ 98.   111.   146.  ]\n",
      "   ...\n",
      "   [ 20.    27.25  43.  ]\n",
      "   [ 17.5   24.75  40.  ]\n",
      "   [ 19.    26.75  40.5 ]]\n",
      "\n",
      "  ...\n",
      "\n",
      "  [[129.75 147.75 185.75]\n",
      "   [129.25 147.25 185.25]\n",
      "   [132.   150.   188.  ]\n",
      "   ...\n",
      "   [113.25 123.25 158.25]\n",
      "   [106.25 116.25 151.25]\n",
      "   [101.5  111.5  146.5 ]]\n",
      "\n",
      "  [[127.75 145.75 183.75]\n",
      "   [126.   144.   182.  ]\n",
      "   [129.25 147.25 185.25]\n",
      "   ...\n",
      "   [107.   117.   152.  ]\n",
      "   [101.5  111.5  146.5 ]\n",
      "   [103.5  113.5  148.5 ]]\n",
      "\n",
      "  [[129.5  147.5  185.5 ]\n",
      "   [133.   151.   189.  ]\n",
      "   [132.5  150.5  188.5 ]\n",
      "   ...\n",
      "   [113.25 123.25 158.25]\n",
      "   [107.   117.   152.  ]\n",
      "   [105.   115.   150.  ]]]\n",
      "\n",
      "\n",
      " [[[201.5  201.5  203.5 ]\n",
      "   [201.25 201.25 203.25]\n",
      "   [200.75 200.75 202.75]\n",
      "   ...\n",
      "   [177.75 172.75 169.75]\n",
      "   [174.   169.   166.  ]\n",
      "   [169.25 164.25 161.25]]\n",
      "\n",
      "  [[206.25 206.25 208.25]\n",
      "   [199.75 199.75 201.75]\n",
      "   [204.75 204.75 206.75]\n",
      "   ...\n",
      "   [169.75 164.75 161.75]\n",
      "   [175.   170.   167.  ]\n",
      "   [170.25 165.25 162.25]]\n",
      "\n",
      "  [[203.5  203.5  205.5 ]\n",
      "   [201.25 201.25 203.25]\n",
      "   [207.   207.   209.  ]\n",
      "   ...\n",
      "   [171.25 166.25 163.25]\n",
      "   [175.75 170.75 167.75]\n",
      "   [173.5  168.5  165.5 ]]\n",
      "\n",
      "  ...\n",
      "\n",
      "  [[180.5  176.5  177.5 ]\n",
      "   [179.   175.   176.  ]\n",
      "   [181.75 177.75 178.75]\n",
      "   ...\n",
      "   [157.   149.   146.  ]\n",
      "   [157.5  149.5  146.5 ]\n",
      "   [161.5  153.5  150.5 ]]\n",
      "\n",
      "  [[196.75 192.75 193.75]\n",
      "   [178.5  174.5  175.5 ]\n",
      "   [185.   181.   182.  ]\n",
      "   ...\n",
      "   [163.25 155.25 152.25]\n",
      "   [161.   153.   150.  ]\n",
      "   [157.5  149.5  146.5 ]]\n",
      "\n",
      "  [[187.5  183.5  184.5 ]\n",
      "   [173.5  169.5  170.5 ]\n",
      "   [169.   165.   166.  ]\n",
      "   ...\n",
      "   [151.75 143.75 140.75]\n",
      "   [154.   146.   143.  ]\n",
      "   [160.25 152.25 149.25]]]\n",
      "\n",
      "\n",
      " [[[119.   111.   109.  ]\n",
      "   [ 97.75  89.75  87.75]\n",
      "   [101.    93.    91.  ]\n",
      "   ...\n",
      "   [126.25 120.25 122.25]\n",
      "   [120.25 114.25 116.25]\n",
      "   [124.25 118.25 120.25]]\n",
      "\n",
      "  [[ 94.    86.    84.  ]\n",
      "   [ 96.    88.    86.  ]\n",
      "   [107.    99.    97.  ]\n",
      "   ...\n",
      "   [125.25 119.25 121.25]\n",
      "   [119.25 113.25 115.25]\n",
      "   [120.5  114.5  116.5 ]]\n",
      "\n",
      "  [[101.5   93.5   91.5 ]\n",
      "   [102.75  94.75  92.75]\n",
      "   [107.25  99.25  97.25]\n",
      "   ...\n",
      "   [123.25 117.25 119.25]\n",
      "   [123.   117.   119.  ]\n",
      "   [123.75 117.75 119.75]]\n",
      "\n",
      "  ...\n",
      "\n",
      "  [[ 89.   121.25  54.75]\n",
      "   [ 89.   121.    57.  ]\n",
      "   [ 94.75 125.75  66.75]\n",
      "   ...\n",
      "   [ 92.5  116.75  48.  ]\n",
      "   [ 99.5  122.    58.5 ]\n",
      "   [110.25 130.25  74.25]]\n",
      "\n",
      "  [[104.75 136.25  75.  ]\n",
      "   [ 96.   128.    64.5 ]\n",
      "   [ 92.75 125.    58.5 ]\n",
      "   ...\n",
      "   [ 91.75 120.25  49.75]\n",
      "   [ 97.25 125.    61.5 ]\n",
      "   [ 93.   120.    64.5 ]]\n",
      "\n",
      "  [[105.5  136.5   78.5 ]\n",
      "   [102.75 134.25  71.75]\n",
      "   [101.   134.5   62.  ]\n",
      "   ...\n",
      "   [ 97.   128.    56.75]\n",
      "   [ 97.   128.    65.75]\n",
      "   [107.25 138.75  85.25]]]], shape=(32, 128, 128, 3), dtype=float32) (32, 128, 128, 3)\n",
      "tf.Tensor(\n",
      "[[0. 0. 0. ... 0. 0. 0.]\n",
      " [0. 0. 0. ... 0. 0. 0.]\n",
      " [0. 0. 0. ... 0. 0. 0.]\n",
      " ...\n",
      " [0. 0. 0. ... 0. 0. 0.]\n",
      " [0. 0. 0. ... 0. 0. 0.]\n",
      " [0. 0. 0. ... 0. 0. 0.]], shape=(32, 38), dtype=float32) (32, 38)\n"
     ]
    }
   ],
   "source": [
    "for x,y in training_set:\n",
    "    print(x,x.shape)\n",
    "    print(y,y.shape)\n",
    "    break"
   ]
  },
  {
   "cell_type": "markdown",
   "id": "a92825e0-a5e1-4977-a12b-4452174738cf",
   "metadata": {},
   "source": [
    "## Building Model"
   ]
  },
  {
   "cell_type": "code",
   "execution_count": 24,
   "id": "09baf1d6-bb8a-44a0-bd54-0d7d6f0a9eac",
   "metadata": {},
   "outputs": [],
   "source": [
    "from tensorflow.keras.layers import Dense,Conv2D, MaxPool2D, Flatten\n",
    "from tensorflow.keras.models import Sequential"
   ]
  },
  {
   "cell_type": "code",
   "execution_count": 14,
   "id": "a3e4eb39-b94c-468b-90ea-a4b96b5a4df6",
   "metadata": {},
   "outputs": [],
   "source": [
    "model = Sequential()"
   ]
  },
  {
   "cell_type": "markdown",
   "id": "5ddb330b-fafe-4870-8f2e-54f27195a2d3",
   "metadata": {},
   "source": [
    "### Building Convolution Layer"
   ]
  },
  {
   "cell_type": "code",
   "execution_count": 18,
   "id": "c4072ecd-48f1-412c-8fda-ee45da89cc0b",
   "metadata": {},
   "outputs": [],
   "source": [
    "model.add(Conv2D(filters=32, kernel_size=3, padding= 'same', activation='relu', input_shape=[128,128,3]))\n",
    "model.add(Conv2D(filters=32, kernel_size=3, padding= 'same', activation='relu'))\n",
    "model.add(MaxPool2D(pool_size=2, strides=2))"
   ]
  },
  {
   "cell_type": "code",
   "execution_count": 20,
   "id": "460962c3-e2e6-4e8c-b966-473f81a89bbd",
   "metadata": {},
   "outputs": [],
   "source": [
    "model.add(Conv2D(filters=32, kernel_size=3, padding= 'same', activation='relu', input_shape=[128,128,3]))\n",
    "model.add(Conv2D(filters=32, kernel_size=3, padding= 'same', activation='relu'))\n",
    "model.add(MaxPool2D(pool_size=2, strides=2))"
   ]
  },
  {
   "cell_type": "code",
   "execution_count": 21,
   "id": "3c1f0d2a-ef52-4b50-86b9-38cb86c4dbc2",
   "metadata": {},
   "outputs": [],
   "source": [
    "model.add(Conv2D(filters=32, kernel_size=3, padding= 'same', activation='relu', input_shape=[128,128,3]))\n",
    "model.add(Conv2D(filters=32, kernel_size=3, padding= 'same', activation='relu'))\n",
    "model.add(MaxPool2D(pool_size=2, strides=2))"
   ]
  },
  {
   "cell_type": "code",
   "execution_count": 22,
   "id": "6d9388e3-4fe7-4677-a59b-48eeefc7c6e4",
   "metadata": {},
   "outputs": [],
   "source": [
    "model.add(Conv2D(filters=32, kernel_size=3, padding= 'same', activation='relu', input_shape=[128,128,3]))\n",
    "model.add(Conv2D(filters=32, kernel_size=3, padding= 'same', activation='relu'))\n",
    "model.add(MaxPool2D(pool_size=2, strides=2))"
   ]
  },
  {
   "cell_type": "code",
   "execution_count": 25,
   "id": "757a9758-2e44-4e58-b201-64321241d993",
   "metadata": {},
   "outputs": [],
   "source": [
    "model.add(Flatten())"
   ]
  },
  {
   "cell_type": "code",
   "execution_count": 26,
   "id": "ad1f2ba7-7acc-4a6d-89d0-8075b2ece966",
   "metadata": {},
   "outputs": [],
   "source": [
    "model.add(Dense(units=1024, activation='relu'))"
   ]
  },
  {
   "cell_type": "code",
   "execution_count": 27,
   "id": "d4bd7cca-904c-42af-9a7e-623bb646e681",
   "metadata": {},
   "outputs": [],
   "source": [
    "#Output Layer\n",
    "model.add(Dense(units=38, activation='softmax'))"
   ]
  },
  {
   "cell_type": "markdown",
   "id": "6d80dd70-fd45-4c74-b750-516cdf069793",
   "metadata": {},
   "source": [
    "### Compiling Model"
   ]
  },
  {
   "cell_type": "code",
   "execution_count": 32,
   "id": "ef671b7b-a49f-4284-8b3e-ee056544f143",
   "metadata": {},
   "outputs": [],
   "source": [
    "model.compile(optimizer='adam',loss='categorical_cossentropy',metrics=['accuracy'])"
   ]
  },
  {
   "cell_type": "code",
   "execution_count": 33,
   "id": "3d3e1495-e344-4640-9209-fc64e83cbadb",
   "metadata": {},
   "outputs": [
    {
     "data": {
      "text/html": [
       "<pre style=\"white-space:pre;overflow-x:auto;line-height:normal;font-family:Menlo,'DejaVu Sans Mono',consolas,'Courier New',monospace\"><span style=\"font-weight: bold\">Model: \"sequential_1\"</span>\n",
       "</pre>\n"
      ],
      "text/plain": [
       "\u001b[1mModel: \"sequential_1\"\u001b[0m\n"
      ]
     },
     "metadata": {},
     "output_type": "display_data"
    },
    {
     "data": {
      "text/html": [
       "<pre style=\"white-space:pre;overflow-x:auto;line-height:normal;font-family:Menlo,'DejaVu Sans Mono',consolas,'Courier New',monospace\">┏━━━━━━━━━━━━━━━━━━━━━━━━━━━━━━━━━━━━━━┳━━━━━━━━━━━━━━━━━━━━━━━━━━━━━┳━━━━━━━━━━━━━━━━━┓\n",
       "┃<span style=\"font-weight: bold\"> Layer (type)                         </span>┃<span style=\"font-weight: bold\"> Output Shape                </span>┃<span style=\"font-weight: bold\">         Param # </span>┃\n",
       "┡━━━━━━━━━━━━━━━━━━━━━━━━━━━━━━━━━━━━━━╇━━━━━━━━━━━━━━━━━━━━━━━━━━━━━╇━━━━━━━━━━━━━━━━━┩\n",
       "│ conv2d (<span style=\"color: #0087ff; text-decoration-color: #0087ff\">Conv2D</span>)                      │ (<span style=\"color: #00d7ff; text-decoration-color: #00d7ff\">None</span>, <span style=\"color: #00af00; text-decoration-color: #00af00\">128</span>, <span style=\"color: #00af00; text-decoration-color: #00af00\">128</span>, <span style=\"color: #00af00; text-decoration-color: #00af00\">32</span>)        │             <span style=\"color: #00af00; text-decoration-color: #00af00\">896</span> │\n",
       "├──────────────────────────────────────┼─────────────────────────────┼─────────────────┤\n",
       "│ conv2d_1 (<span style=\"color: #0087ff; text-decoration-color: #0087ff\">Conv2D</span>)                    │ (<span style=\"color: #00d7ff; text-decoration-color: #00d7ff\">None</span>, <span style=\"color: #00af00; text-decoration-color: #00af00\">128</span>, <span style=\"color: #00af00; text-decoration-color: #00af00\">128</span>, <span style=\"color: #00af00; text-decoration-color: #00af00\">32</span>)        │           <span style=\"color: #00af00; text-decoration-color: #00af00\">9,248</span> │\n",
       "├──────────────────────────────────────┼─────────────────────────────┼─────────────────┤\n",
       "│ max_pooling2d (<span style=\"color: #0087ff; text-decoration-color: #0087ff\">MaxPooling2D</span>)         │ (<span style=\"color: #00d7ff; text-decoration-color: #00d7ff\">None</span>, <span style=\"color: #00af00; text-decoration-color: #00af00\">64</span>, <span style=\"color: #00af00; text-decoration-color: #00af00\">64</span>, <span style=\"color: #00af00; text-decoration-color: #00af00\">32</span>)          │               <span style=\"color: #00af00; text-decoration-color: #00af00\">0</span> │\n",
       "├──────────────────────────────────────┼─────────────────────────────┼─────────────────┤\n",
       "│ conv2d_2 (<span style=\"color: #0087ff; text-decoration-color: #0087ff\">Conv2D</span>)                    │ (<span style=\"color: #00d7ff; text-decoration-color: #00d7ff\">None</span>, <span style=\"color: #00af00; text-decoration-color: #00af00\">64</span>, <span style=\"color: #00af00; text-decoration-color: #00af00\">64</span>, <span style=\"color: #00af00; text-decoration-color: #00af00\">32</span>)          │           <span style=\"color: #00af00; text-decoration-color: #00af00\">9,248</span> │\n",
       "├──────────────────────────────────────┼─────────────────────────────┼─────────────────┤\n",
       "│ conv2d_3 (<span style=\"color: #0087ff; text-decoration-color: #0087ff\">Conv2D</span>)                    │ (<span style=\"color: #00d7ff; text-decoration-color: #00d7ff\">None</span>, <span style=\"color: #00af00; text-decoration-color: #00af00\">64</span>, <span style=\"color: #00af00; text-decoration-color: #00af00\">64</span>, <span style=\"color: #00af00; text-decoration-color: #00af00\">32</span>)          │           <span style=\"color: #00af00; text-decoration-color: #00af00\">9,248</span> │\n",
       "├──────────────────────────────────────┼─────────────────────────────┼─────────────────┤\n",
       "│ max_pooling2d_1 (<span style=\"color: #0087ff; text-decoration-color: #0087ff\">MaxPooling2D</span>)       │ (<span style=\"color: #00d7ff; text-decoration-color: #00d7ff\">None</span>, <span style=\"color: #00af00; text-decoration-color: #00af00\">32</span>, <span style=\"color: #00af00; text-decoration-color: #00af00\">32</span>, <span style=\"color: #00af00; text-decoration-color: #00af00\">32</span>)          │               <span style=\"color: #00af00; text-decoration-color: #00af00\">0</span> │\n",
       "├──────────────────────────────────────┼─────────────────────────────┼─────────────────┤\n",
       "│ conv2d_4 (<span style=\"color: #0087ff; text-decoration-color: #0087ff\">Conv2D</span>)                    │ (<span style=\"color: #00d7ff; text-decoration-color: #00d7ff\">None</span>, <span style=\"color: #00af00; text-decoration-color: #00af00\">32</span>, <span style=\"color: #00af00; text-decoration-color: #00af00\">32</span>, <span style=\"color: #00af00; text-decoration-color: #00af00\">32</span>)          │           <span style=\"color: #00af00; text-decoration-color: #00af00\">9,248</span> │\n",
       "├──────────────────────────────────────┼─────────────────────────────┼─────────────────┤\n",
       "│ conv2d_5 (<span style=\"color: #0087ff; text-decoration-color: #0087ff\">Conv2D</span>)                    │ (<span style=\"color: #00d7ff; text-decoration-color: #00d7ff\">None</span>, <span style=\"color: #00af00; text-decoration-color: #00af00\">32</span>, <span style=\"color: #00af00; text-decoration-color: #00af00\">32</span>, <span style=\"color: #00af00; text-decoration-color: #00af00\">32</span>)          │           <span style=\"color: #00af00; text-decoration-color: #00af00\">9,248</span> │\n",
       "├──────────────────────────────────────┼─────────────────────────────┼─────────────────┤\n",
       "│ max_pooling2d_2 (<span style=\"color: #0087ff; text-decoration-color: #0087ff\">MaxPooling2D</span>)       │ (<span style=\"color: #00d7ff; text-decoration-color: #00d7ff\">None</span>, <span style=\"color: #00af00; text-decoration-color: #00af00\">16</span>, <span style=\"color: #00af00; text-decoration-color: #00af00\">16</span>, <span style=\"color: #00af00; text-decoration-color: #00af00\">32</span>)          │               <span style=\"color: #00af00; text-decoration-color: #00af00\">0</span> │\n",
       "├──────────────────────────────────────┼─────────────────────────────┼─────────────────┤\n",
       "│ conv2d_6 (<span style=\"color: #0087ff; text-decoration-color: #0087ff\">Conv2D</span>)                    │ (<span style=\"color: #00d7ff; text-decoration-color: #00d7ff\">None</span>, <span style=\"color: #00af00; text-decoration-color: #00af00\">16</span>, <span style=\"color: #00af00; text-decoration-color: #00af00\">16</span>, <span style=\"color: #00af00; text-decoration-color: #00af00\">32</span>)          │           <span style=\"color: #00af00; text-decoration-color: #00af00\">9,248</span> │\n",
       "├──────────────────────────────────────┼─────────────────────────────┼─────────────────┤\n",
       "│ conv2d_7 (<span style=\"color: #0087ff; text-decoration-color: #0087ff\">Conv2D</span>)                    │ (<span style=\"color: #00d7ff; text-decoration-color: #00d7ff\">None</span>, <span style=\"color: #00af00; text-decoration-color: #00af00\">16</span>, <span style=\"color: #00af00; text-decoration-color: #00af00\">16</span>, <span style=\"color: #00af00; text-decoration-color: #00af00\">32</span>)          │           <span style=\"color: #00af00; text-decoration-color: #00af00\">9,248</span> │\n",
       "├──────────────────────────────────────┼─────────────────────────────┼─────────────────┤\n",
       "│ max_pooling2d_3 (<span style=\"color: #0087ff; text-decoration-color: #0087ff\">MaxPooling2D</span>)       │ (<span style=\"color: #00d7ff; text-decoration-color: #00d7ff\">None</span>, <span style=\"color: #00af00; text-decoration-color: #00af00\">8</span>, <span style=\"color: #00af00; text-decoration-color: #00af00\">8</span>, <span style=\"color: #00af00; text-decoration-color: #00af00\">32</span>)            │               <span style=\"color: #00af00; text-decoration-color: #00af00\">0</span> │\n",
       "├──────────────────────────────────────┼─────────────────────────────┼─────────────────┤\n",
       "│ conv2d_8 (<span style=\"color: #0087ff; text-decoration-color: #0087ff\">Conv2D</span>)                    │ (<span style=\"color: #00d7ff; text-decoration-color: #00d7ff\">None</span>, <span style=\"color: #00af00; text-decoration-color: #00af00\">8</span>, <span style=\"color: #00af00; text-decoration-color: #00af00\">8</span>, <span style=\"color: #00af00; text-decoration-color: #00af00\">32</span>)            │           <span style=\"color: #00af00; text-decoration-color: #00af00\">9,248</span> │\n",
       "├──────────────────────────────────────┼─────────────────────────────┼─────────────────┤\n",
       "│ conv2d_9 (<span style=\"color: #0087ff; text-decoration-color: #0087ff\">Conv2D</span>)                    │ (<span style=\"color: #00d7ff; text-decoration-color: #00d7ff\">None</span>, <span style=\"color: #00af00; text-decoration-color: #00af00\">8</span>, <span style=\"color: #00af00; text-decoration-color: #00af00\">8</span>, <span style=\"color: #00af00; text-decoration-color: #00af00\">32</span>)            │           <span style=\"color: #00af00; text-decoration-color: #00af00\">9,248</span> │\n",
       "├──────────────────────────────────────┼─────────────────────────────┼─────────────────┤\n",
       "│ max_pooling2d_4 (<span style=\"color: #0087ff; text-decoration-color: #0087ff\">MaxPooling2D</span>)       │ (<span style=\"color: #00d7ff; text-decoration-color: #00d7ff\">None</span>, <span style=\"color: #00af00; text-decoration-color: #00af00\">4</span>, <span style=\"color: #00af00; text-decoration-color: #00af00\">4</span>, <span style=\"color: #00af00; text-decoration-color: #00af00\">32</span>)            │               <span style=\"color: #00af00; text-decoration-color: #00af00\">0</span> │\n",
       "├──────────────────────────────────────┼─────────────────────────────┼─────────────────┤\n",
       "│ flatten (<span style=\"color: #0087ff; text-decoration-color: #0087ff\">Flatten</span>)                    │ (<span style=\"color: #00d7ff; text-decoration-color: #00d7ff\">None</span>, <span style=\"color: #00af00; text-decoration-color: #00af00\">512</span>)                 │               <span style=\"color: #00af00; text-decoration-color: #00af00\">0</span> │\n",
       "├──────────────────────────────────────┼─────────────────────────────┼─────────────────┤\n",
       "│ dense (<span style=\"color: #0087ff; text-decoration-color: #0087ff\">Dense</span>)                        │ (<span style=\"color: #00d7ff; text-decoration-color: #00d7ff\">None</span>, <span style=\"color: #00af00; text-decoration-color: #00af00\">1024</span>)                │         <span style=\"color: #00af00; text-decoration-color: #00af00\">525,312</span> │\n",
       "├──────────────────────────────────────┼─────────────────────────────┼─────────────────┤\n",
       "│ dense_1 (<span style=\"color: #0087ff; text-decoration-color: #0087ff\">Dense</span>)                      │ (<span style=\"color: #00d7ff; text-decoration-color: #00d7ff\">None</span>, <span style=\"color: #00af00; text-decoration-color: #00af00\">38</span>)                  │          <span style=\"color: #00af00; text-decoration-color: #00af00\">38,950</span> │\n",
       "└──────────────────────────────────────┴─────────────────────────────┴─────────────────┘\n",
       "</pre>\n"
      ],
      "text/plain": [
       "┏━━━━━━━━━━━━━━━━━━━━━━━━━━━━━━━━━━━━━━┳━━━━━━━━━━━━━━━━━━━━━━━━━━━━━┳━━━━━━━━━━━━━━━━━┓\n",
       "┃\u001b[1m \u001b[0m\u001b[1mLayer (type)                        \u001b[0m\u001b[1m \u001b[0m┃\u001b[1m \u001b[0m\u001b[1mOutput Shape               \u001b[0m\u001b[1m \u001b[0m┃\u001b[1m \u001b[0m\u001b[1m        Param #\u001b[0m\u001b[1m \u001b[0m┃\n",
       "┡━━━━━━━━━━━━━━━━━━━━━━━━━━━━━━━━━━━━━━╇━━━━━━━━━━━━━━━━━━━━━━━━━━━━━╇━━━━━━━━━━━━━━━━━┩\n",
       "│ conv2d (\u001b[38;5;33mConv2D\u001b[0m)                      │ (\u001b[38;5;45mNone\u001b[0m, \u001b[38;5;34m128\u001b[0m, \u001b[38;5;34m128\u001b[0m, \u001b[38;5;34m32\u001b[0m)        │             \u001b[38;5;34m896\u001b[0m │\n",
       "├──────────────────────────────────────┼─────────────────────────────┼─────────────────┤\n",
       "│ conv2d_1 (\u001b[38;5;33mConv2D\u001b[0m)                    │ (\u001b[38;5;45mNone\u001b[0m, \u001b[38;5;34m128\u001b[0m, \u001b[38;5;34m128\u001b[0m, \u001b[38;5;34m32\u001b[0m)        │           \u001b[38;5;34m9,248\u001b[0m │\n",
       "├──────────────────────────────────────┼─────────────────────────────┼─────────────────┤\n",
       "│ max_pooling2d (\u001b[38;5;33mMaxPooling2D\u001b[0m)         │ (\u001b[38;5;45mNone\u001b[0m, \u001b[38;5;34m64\u001b[0m, \u001b[38;5;34m64\u001b[0m, \u001b[38;5;34m32\u001b[0m)          │               \u001b[38;5;34m0\u001b[0m │\n",
       "├──────────────────────────────────────┼─────────────────────────────┼─────────────────┤\n",
       "│ conv2d_2 (\u001b[38;5;33mConv2D\u001b[0m)                    │ (\u001b[38;5;45mNone\u001b[0m, \u001b[38;5;34m64\u001b[0m, \u001b[38;5;34m64\u001b[0m, \u001b[38;5;34m32\u001b[0m)          │           \u001b[38;5;34m9,248\u001b[0m │\n",
       "├──────────────────────────────────────┼─────────────────────────────┼─────────────────┤\n",
       "│ conv2d_3 (\u001b[38;5;33mConv2D\u001b[0m)                    │ (\u001b[38;5;45mNone\u001b[0m, \u001b[38;5;34m64\u001b[0m, \u001b[38;5;34m64\u001b[0m, \u001b[38;5;34m32\u001b[0m)          │           \u001b[38;5;34m9,248\u001b[0m │\n",
       "├──────────────────────────────────────┼─────────────────────────────┼─────────────────┤\n",
       "│ max_pooling2d_1 (\u001b[38;5;33mMaxPooling2D\u001b[0m)       │ (\u001b[38;5;45mNone\u001b[0m, \u001b[38;5;34m32\u001b[0m, \u001b[38;5;34m32\u001b[0m, \u001b[38;5;34m32\u001b[0m)          │               \u001b[38;5;34m0\u001b[0m │\n",
       "├──────────────────────────────────────┼─────────────────────────────┼─────────────────┤\n",
       "│ conv2d_4 (\u001b[38;5;33mConv2D\u001b[0m)                    │ (\u001b[38;5;45mNone\u001b[0m, \u001b[38;5;34m32\u001b[0m, \u001b[38;5;34m32\u001b[0m, \u001b[38;5;34m32\u001b[0m)          │           \u001b[38;5;34m9,248\u001b[0m │\n",
       "├──────────────────────────────────────┼─────────────────────────────┼─────────────────┤\n",
       "│ conv2d_5 (\u001b[38;5;33mConv2D\u001b[0m)                    │ (\u001b[38;5;45mNone\u001b[0m, \u001b[38;5;34m32\u001b[0m, \u001b[38;5;34m32\u001b[0m, \u001b[38;5;34m32\u001b[0m)          │           \u001b[38;5;34m9,248\u001b[0m │\n",
       "├──────────────────────────────────────┼─────────────────────────────┼─────────────────┤\n",
       "│ max_pooling2d_2 (\u001b[38;5;33mMaxPooling2D\u001b[0m)       │ (\u001b[38;5;45mNone\u001b[0m, \u001b[38;5;34m16\u001b[0m, \u001b[38;5;34m16\u001b[0m, \u001b[38;5;34m32\u001b[0m)          │               \u001b[38;5;34m0\u001b[0m │\n",
       "├──────────────────────────────────────┼─────────────────────────────┼─────────────────┤\n",
       "│ conv2d_6 (\u001b[38;5;33mConv2D\u001b[0m)                    │ (\u001b[38;5;45mNone\u001b[0m, \u001b[38;5;34m16\u001b[0m, \u001b[38;5;34m16\u001b[0m, \u001b[38;5;34m32\u001b[0m)          │           \u001b[38;5;34m9,248\u001b[0m │\n",
       "├──────────────────────────────────────┼─────────────────────────────┼─────────────────┤\n",
       "│ conv2d_7 (\u001b[38;5;33mConv2D\u001b[0m)                    │ (\u001b[38;5;45mNone\u001b[0m, \u001b[38;5;34m16\u001b[0m, \u001b[38;5;34m16\u001b[0m, \u001b[38;5;34m32\u001b[0m)          │           \u001b[38;5;34m9,248\u001b[0m │\n",
       "├──────────────────────────────────────┼─────────────────────────────┼─────────────────┤\n",
       "│ max_pooling2d_3 (\u001b[38;5;33mMaxPooling2D\u001b[0m)       │ (\u001b[38;5;45mNone\u001b[0m, \u001b[38;5;34m8\u001b[0m, \u001b[38;5;34m8\u001b[0m, \u001b[38;5;34m32\u001b[0m)            │               \u001b[38;5;34m0\u001b[0m │\n",
       "├──────────────────────────────────────┼─────────────────────────────┼─────────────────┤\n",
       "│ conv2d_8 (\u001b[38;5;33mConv2D\u001b[0m)                    │ (\u001b[38;5;45mNone\u001b[0m, \u001b[38;5;34m8\u001b[0m, \u001b[38;5;34m8\u001b[0m, \u001b[38;5;34m32\u001b[0m)            │           \u001b[38;5;34m9,248\u001b[0m │\n",
       "├──────────────────────────────────────┼─────────────────────────────┼─────────────────┤\n",
       "│ conv2d_9 (\u001b[38;5;33mConv2D\u001b[0m)                    │ (\u001b[38;5;45mNone\u001b[0m, \u001b[38;5;34m8\u001b[0m, \u001b[38;5;34m8\u001b[0m, \u001b[38;5;34m32\u001b[0m)            │           \u001b[38;5;34m9,248\u001b[0m │\n",
       "├──────────────────────────────────────┼─────────────────────────────┼─────────────────┤\n",
       "│ max_pooling2d_4 (\u001b[38;5;33mMaxPooling2D\u001b[0m)       │ (\u001b[38;5;45mNone\u001b[0m, \u001b[38;5;34m4\u001b[0m, \u001b[38;5;34m4\u001b[0m, \u001b[38;5;34m32\u001b[0m)            │               \u001b[38;5;34m0\u001b[0m │\n",
       "├──────────────────────────────────────┼─────────────────────────────┼─────────────────┤\n",
       "│ flatten (\u001b[38;5;33mFlatten\u001b[0m)                    │ (\u001b[38;5;45mNone\u001b[0m, \u001b[38;5;34m512\u001b[0m)                 │               \u001b[38;5;34m0\u001b[0m │\n",
       "├──────────────────────────────────────┼─────────────────────────────┼─────────────────┤\n",
       "│ dense (\u001b[38;5;33mDense\u001b[0m)                        │ (\u001b[38;5;45mNone\u001b[0m, \u001b[38;5;34m1024\u001b[0m)                │         \u001b[38;5;34m525,312\u001b[0m │\n",
       "├──────────────────────────────────────┼─────────────────────────────┼─────────────────┤\n",
       "│ dense_1 (\u001b[38;5;33mDense\u001b[0m)                      │ (\u001b[38;5;45mNone\u001b[0m, \u001b[38;5;34m38\u001b[0m)                  │          \u001b[38;5;34m38,950\u001b[0m │\n",
       "└──────────────────────────────────────┴─────────────────────────────┴─────────────────┘\n"
      ]
     },
     "metadata": {},
     "output_type": "display_data"
    },
    {
     "data": {
      "text/html": [
       "<pre style=\"white-space:pre;overflow-x:auto;line-height:normal;font-family:Menlo,'DejaVu Sans Mono',consolas,'Courier New',monospace\"><span style=\"font-weight: bold\"> Total params: </span><span style=\"color: #00af00; text-decoration-color: #00af00\">648,390</span> (2.47 MB)\n",
       "</pre>\n"
      ],
      "text/plain": [
       "\u001b[1m Total params: \u001b[0m\u001b[38;5;34m648,390\u001b[0m (2.47 MB)\n"
      ]
     },
     "metadata": {},
     "output_type": "display_data"
    },
    {
     "data": {
      "text/html": [
       "<pre style=\"white-space:pre;overflow-x:auto;line-height:normal;font-family:Menlo,'DejaVu Sans Mono',consolas,'Courier New',monospace\"><span style=\"font-weight: bold\"> Trainable params: </span><span style=\"color: #00af00; text-decoration-color: #00af00\">648,390</span> (2.47 MB)\n",
       "</pre>\n"
      ],
      "text/plain": [
       "\u001b[1m Trainable params: \u001b[0m\u001b[38;5;34m648,390\u001b[0m (2.47 MB)\n"
      ]
     },
     "metadata": {},
     "output_type": "display_data"
    },
    {
     "data": {
      "text/html": [
       "<pre style=\"white-space:pre;overflow-x:auto;line-height:normal;font-family:Menlo,'DejaVu Sans Mono',consolas,'Courier New',monospace\"><span style=\"font-weight: bold\"> Non-trainable params: </span><span style=\"color: #00af00; text-decoration-color: #00af00\">0</span> (0.00 B)\n",
       "</pre>\n"
      ],
      "text/plain": [
       "\u001b[1m Non-trainable params: \u001b[0m\u001b[38;5;34m0\u001b[0m (0.00 B)\n"
      ]
     },
     "metadata": {},
     "output_type": "display_data"
    }
   ],
   "source": [
    "model.summary()"
   ]
  }
 ],
 "metadata": {
  "kernelspec": {
   "display_name": "Python 3 (ipykernel)",
   "language": "python",
   "name": "python3"
  },
  "language_info": {
   "codemirror_mode": {
    "name": "ipython",
    "version": 3
   },
   "file_extension": ".py",
   "mimetype": "text/x-python",
   "name": "python",
   "nbconvert_exporter": "python",
   "pygments_lexer": "ipython3",
   "version": "3.11.7"
  }
 },
 "nbformat": 4,
 "nbformat_minor": 5
}
